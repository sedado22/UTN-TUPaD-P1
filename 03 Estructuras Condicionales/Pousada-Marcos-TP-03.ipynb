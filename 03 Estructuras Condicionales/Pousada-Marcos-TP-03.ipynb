{
 "cells": [
  {
   "cell_type": "markdown",
   "metadata": {},
   "source": [
    "## **TRABAJO PRACTICO 3: ESTRUCTURAS CONDICIONALES**\n"
   ]
  },
  {
   "cell_type": "markdown",
   "metadata": {},
   "source": [
    "### **Ejercicio 1**\n",
    "\n",
    "Escribir un programa que solicite la edad del usuario. Si el usuario es mayor de 18 años, deberá mostrar un mensaje en pantalla que diga “Es mayor de edad”."
   ]
  },
  {
   "cell_type": "code",
   "execution_count": 2,
   "metadata": {},
   "outputs": [],
   "source": [
    "edad = int(input(\"Ingresa tu edad: \"))\n",
    "\n",
    "if edad > 18:\n",
    "    print(\"Es mayor de edad\")"
   ]
  },
  {
   "cell_type": "markdown",
   "metadata": {},
   "source": [
    "### **Ejercicio 2**\n",
    "\n",
    "Escribir un programa que solicite su nota al usuario. Si la nota es mayor o igual a 6, deberá mostrar por pantalla un mensaje que diga “Aprobado”; en caso contrario deberá mostrar el mensaje “Desaprobado”."
   ]
  },
  {
   "cell_type": "code",
   "execution_count": 4,
   "metadata": {},
   "outputs": [
    {
     "name": "stdout",
     "output_type": "stream",
     "text": [
      "Desaprobado\n"
     ]
    }
   ],
   "source": [
    "nota = float(input(\"Ingresa tu nota: \"))\n",
    "\n",
    "if nota >= 6:\n",
    "    print(\"Aprobado\")\n",
    "else:\n",
    "    print(\"Desaprobado\")\n"
   ]
  },
  {
   "cell_type": "markdown",
   "metadata": {},
   "source": [
    "### **Ejercicio 3**\n",
    "\n",
    "Escribir un programa que permita ingresar solo números pares. Si el usuario ingresa un número par, imprimir por en pantalla el mensaje \"Ha ingresado un número par\"; en caso contrario, imprimir por pantalla \"Por favor, ingrese un número par\". Nota: investigar el uso del operador de módulo (%) en Python para evaluar si un número es par o impar"
   ]
  },
  {
   "cell_type": "code",
   "execution_count": null,
   "metadata": {},
   "outputs": [
    {
     "name": "stdout",
     "output_type": "stream",
     "text": [
      "Por favor, ingrese un número par\n"
     ]
    }
   ],
   "source": [
    "numero = int(input(\"Ingresa un numero: \"))\n",
    "\n",
    "if numero % 2 == 0:\n",
    "    print(\"Ha ingresado un numero par\")\n",
    "else:\n",
    "    print(\"Por favor, ingrese un numero par\")\n"
   ]
  },
  {
   "cell_type": "markdown",
   "metadata": {},
   "source": [
    "### **Ejercicio 4**\n",
    "\n",
    "Escribir un programa que solicite al usuario su edad e imprima por pantalla a cuál de las siguientes categorías pertenece: \n",
    "\n",
    "- Niño/a: menor de 12 años. \n",
    "- Adolescente: mayor o igual que 12 años y menor que 18 años. \n",
    "- Adulto/a joven: mayor o igual que 18 años y menor que 30 años. \n",
    "- Adulto/a: mayor o igual que 30 años."
   ]
  },
  {
   "cell_type": "code",
   "execution_count": 13,
   "metadata": {},
   "outputs": [
    {
     "name": "stdout",
     "output_type": "stream",
     "text": [
      "Adulto/a\n"
     ]
    }
   ],
   "source": [
    "edad = int(input(\"Ingresa tu edad: \"))\n",
    "\n",
    "if edad < 12:\n",
    "    print(\"Niño/a\")\n",
    "elif edad < 18:\n",
    "    print(\"Adolescente\")\n",
    "elif edad < 30:\n",
    "    print(\"Adulto/a joven\")\n",
    "else:\n",
    "    print(\"Adulto/a\")\n"
   ]
  },
  {
   "cell_type": "markdown",
   "metadata": {},
   "source": [
    "### **Ejercicio 5**\n",
    "\n",
    "Escribir un programa que permita introducir contraseñas de entre 8 y 14 caracteres (incluyendo 8 y 14). Si el usuario ingresa una contraseña de longitud adecuada, imprimir por en pantalla el mensaje \"Ha ingresado una contraseña correcta\"; en caso contrario, imprimir por pantalla \"Por favor, ingrese una contraseña de entre 8 y 14 caracteres\". \n",
    "\n",
    "**Nota:** investigue el uso de la función len() en Python para evaluar la cantidad de elementos que tiene un iterable tal como una lista o un string."
   ]
  },
  {
   "cell_type": "code",
   "execution_count": 16,
   "metadata": {},
   "outputs": [
    {
     "name": "stdout",
     "output_type": "stream",
     "text": [
      "Por favor, ingrese una contraseña de entre 8 y 14 caracteres\n"
     ]
    }
   ],
   "source": [
    "contraseña = input(\"Ingrese una contraseña: \")\n",
    "\n",
    "if 8 <= len(contraseña) <= 14:\n",
    "    print(\"Ha ingresado una contraseña correcta\")\n",
    "else:\n",
    "    print(\"Por favor, ingrese una contraseña de entre 8 y 14 caracteres\")\n"
   ]
  },
  {
   "cell_type": "markdown",
   "metadata": {},
   "source": [
    "### **Ejercicio 6**\n",
    "\n",
    "El paquete statistics de python contiene funciones que permiten tomar una lista de números y calcular la moda, la mediana y la media de dichos números. Un ejemplo de su uso es el siguiente: \n",
    "```python\n",
    "from statistics import mode, median, mean \n",
    "mi_lista = [1,2,5,5,3] \n",
    "mean(mi_lista) \n",
    "```\n",
    "\n",
    "En la documentación oficial se puede encontrar más información sobre este paquete: [https://docs.python.org/es/3.8/library/statistics.html](https://docs.python.org/es/3.8/library/statistics.html). \n",
    "\n",
    "La moda (mode), la mediana (median) y la media (mean) son parámetros estadísticos que se pueden utilizar para predecir la forma de una distribución normal a partir del siguiente criterio: \n",
    "- Sesgo positivo o a la derecha: cuando la media es mayor que la mediana y, a su vez, la mediana es mayor que la moda. \n",
    "- Sesgo negativo o a la izquierda: cuando la media es menor que la mediana y, a su vez, la mediana es menor que la moda. \n",
    "- Sin sesgo: cuando la media, la mediana y la moda son iguales.\n",
    "\n",
    "Teniendo en cuenta lo antes mencionado, escribir un programa que tome la lista numeros_aleatorios, calcule su moda, su mediana y su media y las compare para determinar si hay sesgo positivo, negativo o no hay sesgo. Imprimir el resultado por pantalla.\n",
    "Definir la lista numeros_aleatorios de la siguiente forma: \n",
    "```python\n",
    "import random numeros_aleatorios = [random.randint(1, 100) for i in range(50)]\n",
    "```\n",
    "**Nota:** el bloque de código anterior crea una lista con 50 números entre 1 y 100 elegidos de forma aleatoria."
   ]
  },
  {
   "cell_type": "code",
   "execution_count": 41,
   "metadata": {},
   "outputs": [
    {
     "name": "stdout",
     "output_type": "stream",
     "text": [
      "Lista de numeros: [39, 36, 35, 80, 53, 28, 97, 3, 41, 70, 77, 25, 77, 68, 90, 22, 65, 50, 84, 15, 85, 86, 82, 50, 95, 47, 43, 95, 37, 9, 52, 15, 12, 67, 51, 39, 20, 90, 76, 71, 55, 78, 39, 76, 35, 13, 92, 85, 89, 48]\n",
      "Media: 55.74\n",
      "Mediana: 52.5\n",
      "Moda: 39\n",
      "Sesgo positivo\n"
     ]
    }
   ],
   "source": [
    "import random\n",
    "from statistics import mean, median, mode\n",
    "\n",
    "# Genero la lista de 50 numeros aleatorios entre 1 y 100\n",
    "numeros_aleatorios = [random.randint(1, 100) for i in range(50)]\n",
    "\n",
    "# Calculo estadisticas\n",
    "media = mean(numeros_aleatorios)\n",
    "mediana = median(numeros_aleatorios)\n",
    "moda = mode(numeros_aleatorios)\n",
    "\n",
    "# Muestro valores\n",
    "print(\"Lista de numeros:\", numeros_aleatorios)\n",
    "print(\"Media:\", media)\n",
    "print(\"Mediana:\", mediana)\n",
    "print(\"Moda:\", moda)\n",
    "\n",
    "# Aplico condicionales para comparar\n",
    "if media > mediana > moda:\n",
    "    print(\"Sesgo positivo\")\n",
    "elif media < mediana < moda:\n",
    "    print(\"Sesgo negativo\")\n",
    "elif media == mediana == moda:\n",
    "    print(\"Sin sesgo\")\n",
    "else:\n",
    "    print(\"Sin clasificar\")\n"
   ]
  },
  {
   "cell_type": "markdown",
   "metadata": {},
   "source": [
    "### **Ejercicio 7**\n",
    "\n",
    "Escribir un programa que solicite una frase o palabra al usuario. Si el string ingresado termina con vocal, añadir un signo de exclamación al final e imprimir el string resultante por pantalla; en caso contrario, dejar el string tal cual lo ingresó el usuario e imprimirlo por pantalla."
   ]
  },
  {
   "cell_type": "code",
   "execution_count": 43,
   "metadata": {},
   "outputs": [
    {
     "name": "stdout",
     "output_type": "stream",
     "text": [
      "cagadas\n"
     ]
    }
   ],
   "source": [
    "frase = input(\"Ingresa una frase o palabra: \")\n",
    "\n",
    "if frase[-1].lower() in \"aeiou\":\n",
    "    frase += \"!\"\n",
    "    \n",
    "print(frase)\n"
   ]
  },
  {
   "cell_type": "markdown",
   "metadata": {},
   "source": [
    "### **Ejercicio 8**\n",
    "\n",
    "Escribir un programa que solicite al usuario que ingrese su nombre y el número 1, 2 o 3 dependiendo de la opción que desee:\n",
    "1. Si quiere su nombre en mayúsculas. Por ejemplo: PEDRO.\n",
    "2. Si quiere su nombre en minúsculas. Por ejemplo: pedro.\n",
    "3. Si quiere su nombre con la primera letra mayúscula. Por ejemplo: Pedro.\n",
    "El programa debe transformar el nombre ingresado de acuerdo a la opción seleccionada por el usuario e imprimir el resultado por pantalla. \n",
    "\n",
    "**Nota:** investigue uso de las funciones upper(), lower() y title() de Python para convertir entre mayúsculas y minúsculas."
   ]
  },
  {
   "cell_type": "code",
   "execution_count": 49,
   "metadata": {},
   "outputs": [
    {
     "name": "stdout",
     "output_type": "stream",
     "text": [
      "Elija una opción:\n",
      "1. Nombre en MAYÚSCULAS\n",
      "2. Nombre en minúsculas\n",
      "3. Nombre con la Primera Letra en Mayúscula\n",
      "Ricardo\n"
     ]
    }
   ],
   "source": [
    "nombre = input(\"Ingrese su nombre: \")\n",
    "\n",
    "print(\"Elija una opción:\")\n",
    "print(\"1. Nombre en MAYÚSCULAS\")\n",
    "print(\"2. Nombre en minúsculas\")\n",
    "print(\"3. Nombre con la Primera Letra en Mayúscula\")\n",
    "\n",
    "opcion = input(\"Ingrese una opción (1, 2 o 3): \")\n",
    "\n",
    "if opcion == \"1\":\n",
    "    print(nombre.upper())\n",
    "elif opcion == \"2\":\n",
    "    print(nombre.lower())\n",
    "elif opcion == \"3\":\n",
    "    print(nombre.title())\n",
    "else:\n",
    "    print(\"Opción no válida.\")\n",
    "\n"
   ]
  },
  {
   "cell_type": "markdown",
   "metadata": {},
   "source": [
    "### **Ejercicio 9**\n",
    "\n",
    "Escribir un programa que pida al usuario la magnitud de un terremoto, clasifique la magnitud en una de las siguientes categorías según la escala de Richter e imprima el resultado por pantalla:\n",
    "* Menor que 3: \"Muy leve\" (imperceptible).\n",
    "* Mayor o igual que 3 y menor que 4: \"Leve\" (ligeramente perceptible).\n",
    "* Mayor o igual que 4 y menor que 5: \"Moderado\" (sentido por personas, pero generalmente no causa daños).\n",
    "* Mayor o igual que 5 y menor que 6: \"Fuerte\" (puede causar daños en estructuras débiles).\n",
    "* Mayor o igual que 6 y menor que 7: \"Muy Fuerte\" (puede causar daños significativos).\n",
    "* Mayor o igual que 7: \"Extremo\" (puede causar graves daños a gran escala)."
   ]
  },
  {
   "cell_type": "code",
   "execution_count": 57,
   "metadata": {},
   "outputs": [
    {
     "name": "stdout",
     "output_type": "stream",
     "text": [
      "Extremo (puede causar graves daños a gran escala)\n"
     ]
    }
   ],
   "source": [
    "magnitud = float(input(\"Ingrese la magnitud del terremoto: \"))\n",
    "\n",
    "if magnitud < 3:\n",
    "    print(\"Muy leve (imperceptible)\")\n",
    "elif magnitud < 4:\n",
    "    print(\"Leve (ligeramente perceptible)\")\n",
    "elif magnitud < 5:\n",
    "    print(\"Moderado (sentido por personas, pero generalmente no causa daños)\")\n",
    "elif magnitud < 6:\n",
    "    print(\"Fuerte (puede causar daños en estructuras débiles)\")\n",
    "elif magnitud < 7:\n",
    "    print(\"Muy Fuerte (puede causar daños significativos)\")\n",
    "else:\n",
    "    print(\"Extremo (puede causar graves daños a gran escala)\")\n"
   ]
  },
  {
   "cell_type": "markdown",
   "metadata": {},
   "source": [
    "### **Ejercicio 10**\n",
    "Utilizando la información aportada en la siguiente tabla sobre las estaciones del año\n",
    "\n",
    "| Periodo del año  | Estación en el hemisferio norte | Estación en el hemisferio sur |\n",
    "| ---------------  | ------------------------------- | ----------------------------- |\n",
    "| Desde el 21 de diciembre hasta el 20 de marzo (incluidos) | Invierno | Verano      |\n",
    "| Desde el 21 de marzo hasta el 20 de junio (incluidos) | Primavera | Otoño          |\n",
    "| Desde el 21 de junio hasta el 20 de septiembre (incluidos) | Verano | Invierno     |\n",
    "| Desde el 21 de septiembre hasta el 20 de diciembre (incluidos) | Otoño | Primavera |\n",
    "\n",
    "Escribir un programa que pregunte al usuario en cuál hemisferio se encuentra (N/S), qué mes del año es y qué día es. El programa deberá utilizar esa información para imprimir por pantalla si el usuario se encuentra en otoño, invierno, primavera o verano.\n"
   ]
  },
  {
   "cell_type": "code",
   "execution_count": null,
   "metadata": {},
   "outputs": [
    {
     "name": "stdout",
     "output_type": "stream",
     "text": [
      "Estas en Otoño\n"
     ]
    }
   ],
   "source": [
    "hemisferio = input(\"¿En que hemisferio te encontras? (N/S): \").upper()\n",
    "mes = int(input(\"¿En que mes estamos? (1-12): \"))\n",
    "dia = int(input(\"¿Que dia es? (1-31): \"))\n",
    "\n",
    "# Convierto mes y dia a un solo numero\n",
    "fecha = (mes, dia)\n",
    "\n",
    "if (fecha >= (12, 21) or fecha <= (3, 20)):\n",
    "    estacion_norte = \"Invierno\"\n",
    "    estacion_sur = \"Verano\"\n",
    "elif (fecha >= (3, 21) and fecha <= (6, 20)):\n",
    "    estacion_norte = \"Primavera\"\n",
    "    estacion_sur = \"Otoño\"\n",
    "elif (fecha >= (6, 21) and fecha <= (9, 20)):\n",
    "    estacion_norte = \"Verano\"\n",
    "    estacion_sur = \"Invierno\"\n",
    "elif (fecha >= (9, 21) and fecha <= (12, 20)):\n",
    "    estacion_norte = \"Otoño\"\n",
    "    estacion_sur = \"Primavera\"\n",
    "else:\n",
    "    estacion_norte = \"Desconocida\"\n",
    "    estacion_sur = \"Desconocida\"\n",
    "\n",
    "# Mostrar estación según hemisferio\n",
    "if hemisferio == \"N\":\n",
    "    print(\"Estas en\", estacion_norte)\n",
    "elif hemisferio == \"S\":\n",
    "    print(\"Estas en\", estacion_sur)\n",
    "else:\n",
    "    print(\"Hemisferio no valido. Ingresa 'N' o 'S'.\")\n"
   ]
  }
 ],
 "metadata": {
  "kernelspec": {
   "display_name": "Python 3",
   "language": "python",
   "name": "python3"
  },
  "language_info": {
   "codemirror_mode": {
    "name": "ipython",
    "version": 3
   },
   "file_extension": ".py",
   "mimetype": "text/x-python",
   "name": "python",
   "nbconvert_exporter": "python",
   "pygments_lexer": "ipython3",
   "version": "3.8.2"
  }
 },
 "nbformat": 4,
 "nbformat_minor": 2
}
