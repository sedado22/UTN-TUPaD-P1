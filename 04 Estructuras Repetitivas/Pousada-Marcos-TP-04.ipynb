{
 "cells": [
  {
   "cell_type": "markdown",
   "metadata": {},
   "source": [
    "## **TRABAJO PRACTICO 3: ESTRUCTURAS CONDICIONALES**\n"
   ]
  },
  {
   "cell_type": "markdown",
   "metadata": {},
   "source": [
    "### **Ejercicio 1**\n",
    "\n",
    "Crea un programa que imprima en pantalla todos los números enteros desde 0 hasta 100 (incluyendo ambos extremos), en orden creciente, mostrando un número por línea."
   ]
  },
  {
   "cell_type": "code",
   "execution_count": null,
   "metadata": {},
   "outputs": [],
   "source": [
    "for i in range(0, 101):\n",
    "    print(i)\n"
   ]
  },
  {
   "cell_type": "markdown",
   "metadata": {},
   "source": [
    "### **Ejercicio 2**\n",
    "\n",
    "Crea un programa que imprima en pantalla todos los números enteros desde 0 hasta 100 (incluyendo ambos extremos), en orden creciente, mostrando un número por línea."
   ]
  },
  {
   "cell_type": "code",
   "execution_count": 5,
   "metadata": {},
   "outputs": [
    {
     "name": "stdout",
     "output_type": "stream",
     "text": [
      "El número tiene 27 dígito(s).\n"
     ]
    }
   ],
   "source": [
    "numero = int(input(\"Ingresa un numero entero: \"))\n",
    "\n",
    "# Solo numeros positivos\n",
    "n = abs(numero)\n",
    "contador = 0\n",
    "\n",
    "# evito que el 0 no me devuelva digitos\n",
    "if n == 0:\n",
    "    contador = 1\n",
    "else:\n",
    "    while n > 0:\n",
    "        #hago la division por 10 para obtener los digitos incrementando el contador\n",
    "        n //= 10  \n",
    "        contador += 1\n",
    "\n",
    "print(f\"El numero tiene {contador} digito(s).\")\n"
   ]
  },
  {
   "cell_type": "markdown",
   "metadata": {},
   "source": [
    "### **Ejercicio 3**\n",
    "\n",
    "Escribe un programa que sume todos los números enteros comprendidos entre dos valores dados por el usuario, excluyendo esos dos valores."
   ]
  },
  {
   "cell_type": "code",
   "execution_count": 6,
   "metadata": {},
   "outputs": [
    {
     "name": "stdout",
     "output_type": "stream",
     "text": [
      "La suma de los numeros entre 2 y 10, excluyendolos, es: 42\n"
     ]
    }
   ],
   "source": [
    "# Pido los dos valores\n",
    "inicio = int(input(\"Ingresa el primer numero (inicio): \"))\n",
    "fin = int(input(\"Ingresa el segundo numero (fin): \"))\n",
    "\n",
    "# Inicializo la suma\n",
    "suma = 0\n",
    "\n",
    "# Uso un ciclo for para realizar la suma entre dos variables excluyendolos\n",
    "for i in range(inicio + 1, fin):\n",
    "    suma += i\n",
    "\n",
    "# Imprimo el resultado\n",
    "print(f\"La suma de los numeros entre {inicio} y {fin}, excluyendolos, es: {suma}\")\n"
   ]
  },
  {
   "cell_type": "markdown",
   "metadata": {},
   "source": [
    "### **Ejercicio 4**\n",
    "\n",
    "Elabora un programa que permita al usuario ingresar números enteros y los sume en secuencia. \n",
    "El programa debe detenerse y mostrar el total acumulado cuando el usuario ingrese un 0."
   ]
  },
  {
   "cell_type": "code",
   "execution_count": 7,
   "metadata": {},
   "outputs": [
    {
     "name": "stdout",
     "output_type": "stream",
     "text": [
      "El total acumulado es: 37\n"
     ]
    }
   ],
   "source": [
    "# Inicializo la variable\n",
    "suma_total = 0\n",
    "\n",
    "# Bucle para ingresar los numeros\n",
    "while True:\n",
    "    numero = int(input(\"Ingresa un numero entero (0 para terminar): \"))\n",
    "    \n",
    "    # Si el numero ingresado es 0, termino el bucle\n",
    "    if numero == 0:\n",
    "        break\n",
    "    \n",
    "    # Sumo el numero ingresado a la suma total\n",
    "    suma_total += numero\n",
    "\n",
    "# Muestro el resultado acumulado\n",
    "print(f\"El total acumulado es: {suma_total}\")\n"
   ]
  },
  {
   "cell_type": "markdown",
   "metadata": {},
   "source": [
    "### **Ejercicio 5**\n",
    "\n",
    "Crea un juego en el que el usuario deba adivinar un número aleatorio entre 0 y 9. Al final, el\n",
    "programa debe mostrar cuántos intentos fueron necesarios para acertar el número."
   ]
  },
  {
   "cell_type": "code",
   "execution_count": 8,
   "metadata": {},
   "outputs": [
    {
     "name": "stdout",
     "output_type": "stream",
     "text": [
      "El numero es menor. Intenta nuevamente.\n",
      "El numero es mayor. Intenta nuevamente.\n",
      "El numero es mayor. Intenta nuevamente.\n",
      "El numero es mayor. Intenta nuevamente.\n",
      "El numero es mayor. Intenta nuevamente.\n",
      "El numero es mayor. Intenta nuevamente.\n",
      "El numero es mayor. Intenta nuevamente.\n",
      "El numero es mayor. Intenta nuevamente.\n",
      "¡Felicidades! Adivinaste el numero en 9 intento(s).\n"
     ]
    }
   ],
   "source": [
    "#importo la libreria random\n",
    "import random\n",
    "\n",
    "# Genero un numero aleatorio entre 0 y 9\n",
    "numero_aleatorio = random.randint(0, 9)\n",
    "\n",
    "# Inicializo el contador de intentos\n",
    "intentos = 0\n",
    "\n",
    "# Bucle para el input\n",
    "while True:\n",
    "    # Solicitar al usuario que ingrese un número\n",
    "    adivinanza = int(input(\"Adivina un numero entre 0 y 9: \"))\n",
    "    \n",
    "    # Incremento el contador de intentos\n",
    "    intentos += 1\n",
    "    \n",
    "    # Verifico si la adivinanza es correcta\n",
    "    if adivinanza == numero_aleatorio:\n",
    "        print(f\"¡Felicidades! Adivinaste el numero en {intentos} intento(s).\")\n",
    "        break\n",
    "    elif adivinanza < numero_aleatorio:\n",
    "        print(\"El numero es mayor. Intenta nuevamente.\")\n",
    "    else:\n",
    "        print(\"El numero es menor. Intenta nuevamente.\")\n"
   ]
  },
  {
   "cell_type": "markdown",
   "metadata": {},
   "source": [
    "### **Ejercicio 6**\n",
    "\n",
    "Desarrolla un programa que imprima en pantalla todos los números pares comprendidos entre 0 y 100, en orden decreciente."
   ]
  },
  {
   "cell_type": "code",
   "execution_count": 9,
   "metadata": {},
   "outputs": [
    {
     "name": "stdout",
     "output_type": "stream",
     "text": [
      "100\n",
      "98\n",
      "96\n",
      "94\n",
      "92\n",
      "90\n",
      "88\n",
      "86\n",
      "84\n",
      "82\n",
      "80\n",
      "78\n",
      "76\n",
      "74\n",
      "72\n",
      "70\n",
      "68\n",
      "66\n",
      "64\n",
      "62\n",
      "60\n",
      "58\n",
      "56\n",
      "54\n",
      "52\n",
      "50\n",
      "48\n",
      "46\n",
      "44\n",
      "42\n",
      "40\n",
      "38\n",
      "36\n",
      "34\n",
      "32\n",
      "30\n",
      "28\n",
      "26\n",
      "24\n",
      "22\n",
      "20\n",
      "18\n",
      "16\n",
      "14\n",
      "12\n",
      "10\n",
      "8\n",
      "6\n",
      "4\n",
      "2\n",
      "0\n"
     ]
    }
   ],
   "source": [
    "#uso for e incluyo -1 para que cubra el numero 0 y -2 para que sean numeros pares\n",
    "for numero in range(100, -1, -2):\n",
    "    print(numero)\n"
   ]
  },
  {
   "cell_type": "markdown",
   "metadata": {},
   "source": [
    "### **Ejercicio 7**\n",
    "\n",
    "Crea un programa que calcule la suma de todos los números comprendidos entre 0 y un número entero positivo indicado por el usuario"
   ]
  },
  {
   "cell_type": "code",
   "execution_count": 10,
   "metadata": {},
   "outputs": [
    {
     "name": "stdout",
     "output_type": "stream",
     "text": [
      "La suma de todos los numeros entre 0 y 33 es: 561\n"
     ]
    }
   ],
   "source": [
    "# Solicito un numero\n",
    "numero = int(input(\"Ingresa un número entero positivo: \"))\n",
    "\n",
    "# Verifico que el numero sea positivo\n",
    "if numero <= 0:\n",
    "    print(\"Por favor, ingresa un número entero positivo.\")\n",
    "else:\n",
    "    # Calculo la suma \n",
    "    suma_total = sum(range(numero + 1))\n",
    "\n",
    "    # Imprimo el resultado\n",
    "    print(f\"La suma de todos los numeros entre 0 y {numero} es: {suma_total}\")\n"
   ]
  },
  {
   "cell_type": "markdown",
   "metadata": {},
   "source": [
    "### **Ejercicio 8**\n",
    "\n",
    "Escribe un programa que permita al usuario ingresar 100 números enteros. Luego, el programa debe indicar cuántos de estos números son pares, cuántos son impares, cuántos son negativos y cuántos son positivos. \n",
    "\n",
    "**Nota:** para probar el programa puedes usar una cantidad menor, pero debe estar preparado para procesar 100 números con un solo cambio."
   ]
  },
  {
   "cell_type": "code",
   "execution_count": null,
   "metadata": {},
   "outputs": [
    {
     "name": "stdout",
     "output_type": "stream",
     "text": [
      "\n",
      "Resumen:\n",
      "Numeros pares: 6\n",
      "Numeros impares: 4\n",
      "Numeros positivos: 8\n",
      "Numeros negativos: 2\n"
     ]
    }
   ],
   "source": [
    "# Variable para ingresar la cantidad de numeros, se puede modificar\n",
    "cantidad = 100  \n",
    "\n",
    "# Inicializo los contadores\n",
    "pares = 0\n",
    "impares = 0\n",
    "positivos = 0\n",
    "negativos = 0\n",
    "\n",
    "# Bucle para leer los numeros\n",
    "for i in range(cantidad):\n",
    "    numero = int(input(f\"Ingrese el numero {i+1}: \"))\n",
    "\n",
    "    # cuento pares o impares\n",
    "    if numero % 2 == 0:\n",
    "        pares += 1\n",
    "    else:\n",
    "        impares += 1\n",
    "\n",
    "    # Cuento positivos y negativos\n",
    "    if numero > 0:\n",
    "        positivos += 1\n",
    "    elif numero < 0:\n",
    "        negativos += 1\n",
    "\n",
    "# Muestro resultados\n",
    "print(\"\\nResumen:\")\n",
    "print(f\"Numeros pares: {pares}\")\n",
    "print(f\"Numeros impares: {impares}\")\n",
    "print(f\"Numeros positivos: {positivos}\")\n",
    "print(f\"Numeros negativos: {negativos}\")\n"
   ]
  },
  {
   "cell_type": "markdown",
   "metadata": {},
   "source": [
    "### **Ejercicio 9**\n",
    "\n",
    "Elabora un programa que permita al usuario ingresar 100 números enteros y luego calcule la media de esos valores. \n",
    "\n",
    "**Nota:** puedes probar el programa con una cantidad menor, pero debe poder procesar 100 números cambiando solo un valor."
   ]
  },
  {
   "cell_type": "code",
   "execution_count": null,
   "metadata": {},
   "outputs": [
    {
     "name": "stdout",
     "output_type": "stream",
     "text": [
      "\n",
      "La media de los 10 numeros ingresados es: 94.0\n"
     ]
    }
   ],
   "source": [
    "# Variable para ingresar la cantidad de numeros, se puede modificar\n",
    "cantidad = 100\n",
    "\n",
    "# Inicializo la suma\n",
    "suma_total = 0\n",
    "\n",
    "# Bucle para ingresar los numeros y sumarlos\n",
    "for i in range(cantidad):\n",
    "    numero = int(input(f\"Ingrese el numero {i+1}: \"))\n",
    "    suma_total += numero\n",
    "\n",
    "# Calculo la media\n",
    "media = suma_total / cantidad\n",
    "\n",
    "# Muestro el resultado\n",
    "print(f\"\\nLa media de los {cantidad} numeros ingresados es: {media}\")\n"
   ]
  },
  {
   "cell_type": "markdown",
   "metadata": {},
   "source": [
    "### **Ejercicio 10**\n",
    "\n",
    "Escribe un programa que invierta el orden de los dígitos de un número ingresado por el usuario. \n",
    "\n",
    "**Ejemplo:** si el usuario ingresa 547, el programa debe mostrar 745."
   ]
  },
  {
   "cell_type": "code",
   "execution_count": 17,
   "metadata": {},
   "outputs": [
    {
     "name": "stdout",
     "output_type": "stream",
     "text": [
      "El numero invertido es: -123456789\n"
     ]
    }
   ],
   "source": [
    "# input de numero\n",
    "numero = int(input(\"Ingresa un numero entero: \"))\n",
    "\n",
    "# Detecta si es negativo\n",
    "es_negativo = numero < 0\n",
    "numero = abs(numero)\n",
    "\n",
    "# Inicializa el numero invertido en 0 \n",
    "numero_invertido = 0\n",
    "\n",
    "# el bucle se repite hasta que \"numero\" se convierta en 0\n",
    "while numero != 0:\n",
    "    #extraigo el ultimo digito\n",
    "    digito = numero % 10\n",
    "    #construyo el numero invertido, multiplicandolo por 10 para dejar espacio a la derecha y sumo el digito al final para que se ubique en la nueva posicion                  \n",
    "    numero_invertido = numero_invertido * 10 + digito \n",
    "    #elimino el ultimo digito del numero\n",
    "    numero //= 10                    \n",
    "\n",
    "# si es negativo agrego el signo al final \n",
    "if es_negativo:\n",
    "    numero_invertido *= -1\n",
    "\n",
    "# Muestro el resultado\n",
    "print(f\"El numero invertido es: {numero_invertido}\")\n",
    "\n"
   ]
  }
 ],
 "metadata": {
  "kernelspec": {
   "display_name": "Python 3",
   "language": "python",
   "name": "python3"
  },
  "language_info": {
   "codemirror_mode": {
    "name": "ipython",
    "version": 3
   },
   "file_extension": ".py",
   "mimetype": "text/x-python",
   "name": "python",
   "nbconvert_exporter": "python",
   "pygments_lexer": "ipython3",
   "version": "3.8.2"
  }
 },
 "nbformat": 4,
 "nbformat_minor": 2
}
