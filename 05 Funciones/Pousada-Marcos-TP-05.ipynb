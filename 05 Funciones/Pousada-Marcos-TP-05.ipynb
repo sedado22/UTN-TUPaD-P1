{
 "cells": [
  {
   "cell_type": "markdown",
   "id": "9710598e",
   "metadata": {},
   "source": [
    "## **TRABAJO PRACTICO 5: FUNCIONES**\n"
   ]
  },
  {
   "cell_type": "markdown",
   "id": "27ebc97f",
   "metadata": {},
   "source": [
    "### **Ejercicio 1**\n",
    "\n",
    "Crear una función llamada imprimir_hola_mundo que imprima por pantalla el mensaje: **“Hola Mundo!”.** \n",
    "\n",
    "Llamar a esta función desde el programa principal."
   ]
  },
  {
   "cell_type": "code",
   "execution_count": null,
   "id": "776c413d",
   "metadata": {},
   "outputs": [
    {
     "name": "stdout",
     "output_type": "stream",
     "text": [
      "Hola Mundo!\n"
     ]
    }
   ],
   "source": [
    "#Funcion\n",
    "def imprimir_hola_mundo():\n",
    "    print(\"Hola Mundo!\")\n",
    "\n",
    "#Programa principal\n",
    "imprimir_hola_mundo()\n"
   ]
  },
  {
   "cell_type": "markdown",
   "id": "305af3ae",
   "metadata": {},
   "source": [
    "### **Ejercicio 2**\n",
    "\n",
    "Crear una función llamada saludar_usuario(nombre) que reciba como parámetro un nombre y devuelva un saludo personalizado.\n",
    "\n",
    "Por ejemplo, si se llama con saludar_usuario(\"Marcos\"), deberá devolver: **“Hola Marcos!”.** \n",
    "\n",
    "Llamar a esta función desde el programa principal solicitando el nombre al usuario."
   ]
  },
  {
   "cell_type": "code",
   "execution_count": 2,
   "id": "37445d8d",
   "metadata": {},
   "outputs": [
    {
     "name": "stdout",
     "output_type": "stream",
     "text": [
      "Hola Ricardo!\n"
     ]
    }
   ],
   "source": [
    "# Funcion\n",
    "def saludar_usuario(nombre):\n",
    "    return f\"Hola {nombre}!\"\n",
    "\n",
    "# Programa principal\n",
    "nombre_usuario = input(\"Ingresa tu nombre: \")\n",
    "saludo = saludar_usuario(nombre_usuario)\n",
    "print(saludo)\n"
   ]
  },
  {
   "cell_type": "markdown",
   "id": "cba1efe8",
   "metadata": {},
   "source": [
    "### **Ejercicio 3**\n",
    "\n",
    "Crear una función llamada informacion_personal(nombre, apellido, edad, residencia) que reciba cuatro parámetros e imprima: **“Soy [nombre] [apellido], tengo [edad] años y vivo en [residencia]”.** \n",
    "\n",
    "Pedir los datos al usuario y llamar a esta función con los valores ingresados."
   ]
  },
  {
   "cell_type": "code",
   "execution_count": 7,
   "id": "e4c9db54",
   "metadata": {},
   "outputs": [
    {
     "name": "stdout",
     "output_type": "stream",
     "text": [
      "Soy Armando Esteban Quito, tengo 69 años y vivo en Ranelagh.\n"
     ]
    }
   ],
   "source": [
    "# Funcion\n",
    "def informacion_personal(nombre, apellido, edad, residencia):\n",
    "    print(f\"Soy {nombre} {apellido}, tengo {edad} años y vivo en {residencia}.\")\n",
    "\n",
    "# Programa principal\n",
    "nombre = input(\"Ingresa tu nombre: \")\n",
    "apellido = input(\"Ingresa tu apellido: \")\n",
    "edad = input(\"Ingresa tu edad: \")\n",
    "residencia = input(\"Lugar de residencia: \")\n",
    "\n",
    "informacion_personal(nombre, apellido, edad, residencia)\n"
   ]
  },
  {
   "cell_type": "markdown",
   "id": "4626f92d",
   "metadata": {},
   "source": [
    "### **Ejercicio 4**\n",
    "\n",
    "Crear dos funciones: **calcular_area_circulo**(radio) que reciba el radio como parámetro y devuelva el área del círculo. **calcular_perimetro_circulo**(radio) que reciba el radio como parámetro y devuelva el perímetro del círculo. \n",
    "\n",
    "Solicitar el radio al usuario y llamar ambas funciones para mostrar los resultados."
   ]
  },
  {
   "cell_type": "code",
   "execution_count": 6,
   "id": "701f3c6b",
   "metadata": {},
   "outputs": [
    {
     "name": "stdout",
     "output_type": "stream",
     "text": [
      "El area del circulo es: 1520.53\n",
      "El perimetro del circulo es: 138.23\n"
     ]
    }
   ],
   "source": [
    "# Importo libreria para usar pi\n",
    "import math \n",
    "\n",
    "# Funcion para calcular el area del circulo\n",
    "def calcular_area_circulo(radio):\n",
    "    return math.pi * radio ** 2\n",
    "\n",
    "# Funcion para calcular el perimetro del circulo\n",
    "def calcular_perimetro_circulo(radio):\n",
    "    return 2 * math.pi * radio\n",
    "\n",
    "# Programa principal\n",
    "radio = float(input(\"Ingresa el radio del círculo: \"))\n",
    "\n",
    "area = calcular_area_circulo(radio)\n",
    "perimetro = calcular_perimetro_circulo(radio)\n",
    "\n",
    "print(f\"El area del circulo es: {area:.2f}\")\n",
    "print(f\"El perimetro del circulo es: {perimetro:.2f}\")\n"
   ]
  },
  {
   "cell_type": "markdown",
   "id": "623c4f91",
   "metadata": {},
   "source": [
    "### **Ejercicio 5**\n",
    "\n",
    "Crear una función llamada **segundos_a_horas(segundos)** que reciba una cantidad de segundos como parámetro y devuelva la cantidad de horas correspondientes. \n",
    "\n",
    "Solicitar al usuario los segundos y mostrar el resultado usando esta función."
   ]
  },
  {
   "cell_type": "code",
   "execution_count": 11,
   "id": "f5632e87",
   "metadata": {},
   "outputs": [
    {
     "name": "stdout",
     "output_type": "stream",
     "text": [
      "7200.0 segundos equivalen a 2.0 horas.\n"
     ]
    }
   ],
   "source": [
    "# Funcion para convertir segundos a horas\n",
    "def segundos_a_horas(segundos):\n",
    "    return segundos / 3600  \n",
    "\n",
    "# Programa principal\n",
    "segundos = float(input(\"Ingresa la cantidad de segundos: \"))\n",
    "horas = segundos_a_horas(segundos)\n",
    "print(f\"{segundos} segundos equivalen a {horas} horas.\")\n"
   ]
  },
  {
   "cell_type": "markdown",
   "id": "4aacfa39",
   "metadata": {},
   "source": [
    "### **Ejercicio 6**\n",
    "\n",
    "Crear una función llamada **tabla_multiplicar(numero)** que reciba un número como parámetro y imprima la tabla de multiplicar de ese número del 1 al 10. \n",
    "\n",
    "Pedir al usuario el número y llamar a la función."
   ]
  },
  {
   "cell_type": "code",
   "execution_count": 12,
   "id": "32ae9001",
   "metadata": {},
   "outputs": [
    {
     "name": "stdout",
     "output_type": "stream",
     "text": [
      "Tabla de multiplicar del 2:\n",
      "2 x 1 = 2\n",
      "2 x 2 = 4\n",
      "2 x 3 = 6\n",
      "2 x 4 = 8\n",
      "2 x 5 = 10\n",
      "2 x 6 = 12\n",
      "2 x 7 = 14\n",
      "2 x 8 = 16\n",
      "2 x 9 = 18\n",
      "2 x 10 = 20\n"
     ]
    }
   ],
   "source": [
    "# Funcion\n",
    "def tabla_multiplicar(numero):\n",
    "    print(f\"Tabla de multiplicar del {numero}:\")\n",
    "    for i in range(1, 11):\n",
    "        resultado = numero * i\n",
    "        print(f\"{numero} x {i} = {resultado}\")\n",
    "\n",
    "# Programa principal\n",
    "numero = int(input(\"Ingresa un número para ver su tabla de multiplicar: \"))\n",
    "tabla_multiplicar(numero)\n"
   ]
  },
  {
   "cell_type": "markdown",
   "id": "2eecc262",
   "metadata": {},
   "source": [
    "### **Ejercicio 7**\n",
    "\n",
    "Crear una función llamada **operaciones_basicas(a, b)** que reciba dos números como parámetros y devuelva una tupla con el resultado de sumarlos, restarlos, multiplicarlos y dividirlos. \n",
    "\n",
    "Mostrar los resultados de forma clara."
   ]
  },
  {
   "cell_type": "code",
   "execution_count": 13,
   "id": "b4b79c36",
   "metadata": {},
   "outputs": [
    {
     "name": "stdout",
     "output_type": "stream",
     "text": [
      "\n",
      "Resultados para a = 50.0 y b = 10.0:\n",
      "Suma: 60.0\n",
      "Resta: 40.0\n",
      "Multiplicación: 500.0\n",
      "División: 5.0\n"
     ]
    }
   ],
   "source": [
    "# Funcion operaciones basicas\n",
    "def operaciones_basicas(a, b):\n",
    "    suma = a + b\n",
    "    resta = a - b\n",
    "    multiplicacion = a * b\n",
    "# Condicion para las divisiones por cero\n",
    "    if b != 0:\n",
    "        division = a / b\n",
    "    else:\n",
    "        division = \"Indefinida (division por cero)\"\n",
    "\n",
    "    return (suma, resta, multiplicacion, division)\n",
    "\n",
    "# Programa principal\n",
    "a = float(input(\"Ingresa el primer numero: \"))\n",
    "b = float(input(\"Ingresa el segundo numero: \"))\n",
    "\n",
    "# Llamo a la funcion\n",
    "resultados = operaciones_basicas(a, b)\n",
    "\n",
    "# Muestro resultados organizados\n",
    "print(f\"\\nResultados para a = {a} y b = {b}:\")\n",
    "print(f\"Suma: {resultados[0]}\")\n",
    "print(f\"Resta: {resultados[1]}\")\n",
    "print(f\"Multiplicación: {resultados[2]}\")\n",
    "print(f\"División: {resultados[3]}\")\n",
    "\n"
   ]
  },
  {
   "cell_type": "markdown",
   "id": "e40c7b62",
   "metadata": {},
   "source": [
    "### **Ejercicio 8**\n",
    "\n",
    "Crear una función llamada **calcular_imc(peso, altura)** que reciba el peso en kilogramos y la altura en metros, y devuelva el índice de masa corporal (IMC). \n",
    "\n",
    "Solicitar al usuario los datos y llamar a la función para mostrar el resultado con dos decimales."
   ]
  },
  {
   "cell_type": "code",
   "execution_count": 15,
   "id": "916d63f3",
   "metadata": {},
   "outputs": [
    {
     "name": "stdout",
     "output_type": "stream",
     "text": [
      "Tu índice de masa corporal (IMC) es: 33.03\n"
     ]
    }
   ],
   "source": [
    "# Funcion IMC\n",
    "def calcular_imc(peso, altura):\n",
    "    return peso / (altura ** 2)\n",
    "\n",
    "# Programa principal\n",
    "peso = float(input(\"Ingresa tu peso en kilogramos: \"))\n",
    "altura = float(input(\"Ingresa tu altura en metros: \"))\n",
    "\n",
    "imc = calcular_imc(peso, altura)\n",
    "\n",
    "print(f\"Tu índice de masa corporal (IMC) es: {imc:.2f}\")\n"
   ]
  },
  {
   "cell_type": "markdown",
   "id": "d6a3c30e",
   "metadata": {},
   "source": [
    "### **Ejercicio 9**\n",
    "\n",
    "Crear una función llamada **celsius_a_fahrenheit(celsius)** que reciba una temperatura en grados Celsius y devuelva su equivalente en Fahrenheit. \n",
    "\n",
    "Pedir al usuario la temperatura en Celsius y mostrar el resultado usando la función."
   ]
  },
  {
   "cell_type": "code",
   "execution_count": 16,
   "id": "a187f088",
   "metadata": {},
   "outputs": [
    {
     "name": "stdout",
     "output_type": "stream",
     "text": [
      "33.0 grados Celsius equivalen a 91.40 grados Fahrenheit.\n"
     ]
    }
   ],
   "source": [
    "# Funcion convertir C a F\n",
    "def celsius_a_fahrenheit(celsius):\n",
    "    return (celsius * 9/5) + 32\n",
    "\n",
    "# Programa principal\n",
    "celsius = float(input(\"Ingresa la temperatura en grados Celsius: \"))\n",
    "\n",
    "fahrenheit = celsius_a_fahrenheit(celsius)\n",
    "\n",
    "print(f\"{celsius} grados Celsius equivalen a {fahrenheit:.2f} grados Fahrenheit.\")\n"
   ]
  },
  {
   "cell_type": "markdown",
   "id": "db379d7d",
   "metadata": {},
   "source": [
    "### **Ejercicio 10**\n",
    "\n",
    "Crear una función llamada **calcular_promedio(a, b, c)** que reciba tres números como parámetros y devuelva el promedio de ellos.\n",
    "\n",
    "Solicitar los números al usuario y mostrar el resultado usando esta función."
   ]
  },
  {
   "cell_type": "code",
   "execution_count": 17,
   "id": "9553570a",
   "metadata": {},
   "outputs": [
    {
     "name": "stdout",
     "output_type": "stream",
     "text": [
      "El promedio de 22.0, 33.0 y 44.0 es: 33.00\n"
     ]
    }
   ],
   "source": [
    "# Funcion para calcular el promedio\n",
    "def calcular_promedio(a, b, c):\n",
    "    return (a + b + c) / 3\n",
    "\n",
    "# Programa principal\n",
    "a = float(input(\"Ingresa el primer número: \"))\n",
    "b = float(input(\"Ingresa el segundo número: \"))\n",
    "c = float(input(\"Ingresa el tercer número: \"))\n",
    "\n",
    "promedio = calcular_promedio(a, b, c)\n",
    "\n",
    "print(f\"El promedio de {a}, {b} y {c} es: {promedio:.2f}\")\n"
   ]
  }
 ],
 "metadata": {
  "kernelspec": {
   "display_name": "Python 3",
   "language": "python",
   "name": "python3"
  },
  "language_info": {
   "codemirror_mode": {
    "name": "ipython",
    "version": 3
   },
   "file_extension": ".py",
   "mimetype": "text/x-python",
   "name": "python",
   "nbconvert_exporter": "python",
   "pygments_lexer": "ipython3",
   "version": "3.8.2"
  }
 },
 "nbformat": 4,
 "nbformat_minor": 5
}
